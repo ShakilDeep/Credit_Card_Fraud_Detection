{
 "cells": [
  {
   "cell_type": "markdown",
   "source": [
    "## Credit Card Fraud Detection"
   ],
   "metadata": {
    "collapsed": false,
    "pycharm": {
     "name": "#%% md\n"
    }
   }
  },
  {
   "cell_type": "code",
   "execution_count": 1,
   "outputs": [],
   "source": [
    "import numpy as np\n",
    "import pandas as pd\n",
    "from matplotlib import pyplot as plt\n",
    "from sklearn.model_selection import train_test_split\n",
    "from sklearn.linear_model import LogisticRegression\n",
    "from sklearn.metrics import accuracy_score"
   ],
   "metadata": {
    "collapsed": false,
    "pycharm": {
     "name": "#%%\n"
    }
   }
  },
  {
   "cell_type": "code",
   "execution_count": 2,
   "outputs": [],
   "source": [
    "data = pd.read_csv('Data/creditcard.csv')"
   ],
   "metadata": {
    "collapsed": false,
    "pycharm": {
     "name": "#%%\n"
    }
   }
  },
  {
   "cell_type": "code",
   "execution_count": 3,
   "outputs": [
    {
     "data": {
      "text/plain": "   Time        V1        V2        V3        V4        V5        V6        V7  \\\n0   0.0 -1.359807 -0.072781  2.536347  1.378155 -0.338321  0.462388  0.239599   \n1   0.0  1.191857  0.266151  0.166480  0.448154  0.060018 -0.082361 -0.078803   \n2   1.0 -1.358354 -1.340163  1.773209  0.379780 -0.503198  1.800499  0.791461   \n3   1.0 -0.966272 -0.185226  1.792993 -0.863291 -0.010309  1.247203  0.237609   \n4   2.0 -1.158233  0.877737  1.548718  0.403034 -0.407193  0.095921  0.592941   \n\n         V8        V9  ...       V21       V22       V23       V24       V25  \\\n0  0.098698  0.363787  ... -0.018307  0.277838 -0.110474  0.066928  0.128539   \n1  0.085102 -0.255425  ... -0.225775 -0.638672  0.101288 -0.339846  0.167170   \n2  0.247676 -1.514654  ...  0.247998  0.771679  0.909412 -0.689281 -0.327642   \n3  0.377436 -1.387024  ... -0.108300  0.005274 -0.190321 -1.175575  0.647376   \n4 -0.270533  0.817739  ... -0.009431  0.798278 -0.137458  0.141267 -0.206010   \n\n        V26       V27       V28  Amount  Class  \n0 -0.189115  0.133558 -0.021053  149.62      0  \n1  0.125895 -0.008983  0.014724    2.69      0  \n2 -0.139097 -0.055353 -0.059752  378.66      0  \n3 -0.221929  0.062723  0.061458  123.50      0  \n4  0.502292  0.219422  0.215153   69.99      0  \n\n[5 rows x 31 columns]",
      "text/html": "<div>\n<style scoped>\n    .dataframe tbody tr th:only-of-type {\n        vertical-align: middle;\n    }\n\n    .dataframe tbody tr th {\n        vertical-align: top;\n    }\n\n    .dataframe thead th {\n        text-align: right;\n    }\n</style>\n<table border=\"1\" class=\"dataframe\">\n  <thead>\n    <tr style=\"text-align: right;\">\n      <th></th>\n      <th>Time</th>\n      <th>V1</th>\n      <th>V2</th>\n      <th>V3</th>\n      <th>V4</th>\n      <th>V5</th>\n      <th>V6</th>\n      <th>V7</th>\n      <th>V8</th>\n      <th>V9</th>\n      <th>...</th>\n      <th>V21</th>\n      <th>V22</th>\n      <th>V23</th>\n      <th>V24</th>\n      <th>V25</th>\n      <th>V26</th>\n      <th>V27</th>\n      <th>V28</th>\n      <th>Amount</th>\n      <th>Class</th>\n    </tr>\n  </thead>\n  <tbody>\n    <tr>\n      <th>0</th>\n      <td>0.0</td>\n      <td>-1.359807</td>\n      <td>-0.072781</td>\n      <td>2.536347</td>\n      <td>1.378155</td>\n      <td>-0.338321</td>\n      <td>0.462388</td>\n      <td>0.239599</td>\n      <td>0.098698</td>\n      <td>0.363787</td>\n      <td>...</td>\n      <td>-0.018307</td>\n      <td>0.277838</td>\n      <td>-0.110474</td>\n      <td>0.066928</td>\n      <td>0.128539</td>\n      <td>-0.189115</td>\n      <td>0.133558</td>\n      <td>-0.021053</td>\n      <td>149.62</td>\n      <td>0</td>\n    </tr>\n    <tr>\n      <th>1</th>\n      <td>0.0</td>\n      <td>1.191857</td>\n      <td>0.266151</td>\n      <td>0.166480</td>\n      <td>0.448154</td>\n      <td>0.060018</td>\n      <td>-0.082361</td>\n      <td>-0.078803</td>\n      <td>0.085102</td>\n      <td>-0.255425</td>\n      <td>...</td>\n      <td>-0.225775</td>\n      <td>-0.638672</td>\n      <td>0.101288</td>\n      <td>-0.339846</td>\n      <td>0.167170</td>\n      <td>0.125895</td>\n      <td>-0.008983</td>\n      <td>0.014724</td>\n      <td>2.69</td>\n      <td>0</td>\n    </tr>\n    <tr>\n      <th>2</th>\n      <td>1.0</td>\n      <td>-1.358354</td>\n      <td>-1.340163</td>\n      <td>1.773209</td>\n      <td>0.379780</td>\n      <td>-0.503198</td>\n      <td>1.800499</td>\n      <td>0.791461</td>\n      <td>0.247676</td>\n      <td>-1.514654</td>\n      <td>...</td>\n      <td>0.247998</td>\n      <td>0.771679</td>\n      <td>0.909412</td>\n      <td>-0.689281</td>\n      <td>-0.327642</td>\n      <td>-0.139097</td>\n      <td>-0.055353</td>\n      <td>-0.059752</td>\n      <td>378.66</td>\n      <td>0</td>\n    </tr>\n    <tr>\n      <th>3</th>\n      <td>1.0</td>\n      <td>-0.966272</td>\n      <td>-0.185226</td>\n      <td>1.792993</td>\n      <td>-0.863291</td>\n      <td>-0.010309</td>\n      <td>1.247203</td>\n      <td>0.237609</td>\n      <td>0.377436</td>\n      <td>-1.387024</td>\n      <td>...</td>\n      <td>-0.108300</td>\n      <td>0.005274</td>\n      <td>-0.190321</td>\n      <td>-1.175575</td>\n      <td>0.647376</td>\n      <td>-0.221929</td>\n      <td>0.062723</td>\n      <td>0.061458</td>\n      <td>123.50</td>\n      <td>0</td>\n    </tr>\n    <tr>\n      <th>4</th>\n      <td>2.0</td>\n      <td>-1.158233</td>\n      <td>0.877737</td>\n      <td>1.548718</td>\n      <td>0.403034</td>\n      <td>-0.407193</td>\n      <td>0.095921</td>\n      <td>0.592941</td>\n      <td>-0.270533</td>\n      <td>0.817739</td>\n      <td>...</td>\n      <td>-0.009431</td>\n      <td>0.798278</td>\n      <td>-0.137458</td>\n      <td>0.141267</td>\n      <td>-0.206010</td>\n      <td>0.502292</td>\n      <td>0.219422</td>\n      <td>0.215153</td>\n      <td>69.99</td>\n      <td>0</td>\n    </tr>\n  </tbody>\n</table>\n<p>5 rows × 31 columns</p>\n</div>"
     },
     "execution_count": 3,
     "metadata": {},
     "output_type": "execute_result"
    }
   ],
   "source": [
    "# first 5 rows of the dataset\n",
    "data.head()"
   ],
   "metadata": {
    "collapsed": false,
    "pycharm": {
     "name": "#%%\n"
    }
   }
  },
  {
   "cell_type": "code",
   "execution_count": 4,
   "outputs": [
    {
     "data": {
      "text/plain": "            Time         V1         V2        V3        V4        V5  \\\n284802  172786.0 -11.881118  10.071785 -9.834783 -2.066656 -5.364473   \n284803  172787.0  -0.732789  -0.055080  2.035030 -0.738589  0.868229   \n284804  172788.0   1.919565  -0.301254 -3.249640 -0.557828  2.630515   \n284805  172788.0  -0.240440   0.530483  0.702510  0.689799 -0.377961   \n284806  172792.0  -0.533413  -0.189733  0.703337 -0.506271 -0.012546   \n\n              V6        V7        V8        V9  ...       V21       V22  \\\n284802 -2.606837 -4.918215  7.305334  1.914428  ...  0.213454  0.111864   \n284803  1.058415  0.024330  0.294869  0.584800  ...  0.214205  0.924384   \n284804  3.031260 -0.296827  0.708417  0.432454  ...  0.232045  0.578229   \n284805  0.623708 -0.686180  0.679145  0.392087  ...  0.265245  0.800049   \n284806 -0.649617  1.577006 -0.414650  0.486180  ...  0.261057  0.643078   \n\n             V23       V24       V25       V26       V27       V28  Amount  \\\n284802  1.014480 -0.509348  1.436807  0.250034  0.943651  0.823731    0.77   \n284803  0.012463 -1.016226 -0.606624 -0.395255  0.068472 -0.053527   24.79   \n284804 -0.037501  0.640134  0.265745 -0.087371  0.004455 -0.026561   67.88   \n284805 -0.163298  0.123205 -0.569159  0.546668  0.108821  0.104533   10.00   \n284806  0.376777  0.008797 -0.473649 -0.818267 -0.002415  0.013649  217.00   \n\n        Class  \n284802      0  \n284803      0  \n284804      0  \n284805      0  \n284806      0  \n\n[5 rows x 31 columns]",
      "text/html": "<div>\n<style scoped>\n    .dataframe tbody tr th:only-of-type {\n        vertical-align: middle;\n    }\n\n    .dataframe tbody tr th {\n        vertical-align: top;\n    }\n\n    .dataframe thead th {\n        text-align: right;\n    }\n</style>\n<table border=\"1\" class=\"dataframe\">\n  <thead>\n    <tr style=\"text-align: right;\">\n      <th></th>\n      <th>Time</th>\n      <th>V1</th>\n      <th>V2</th>\n      <th>V3</th>\n      <th>V4</th>\n      <th>V5</th>\n      <th>V6</th>\n      <th>V7</th>\n      <th>V8</th>\n      <th>V9</th>\n      <th>...</th>\n      <th>V21</th>\n      <th>V22</th>\n      <th>V23</th>\n      <th>V24</th>\n      <th>V25</th>\n      <th>V26</th>\n      <th>V27</th>\n      <th>V28</th>\n      <th>Amount</th>\n      <th>Class</th>\n    </tr>\n  </thead>\n  <tbody>\n    <tr>\n      <th>284802</th>\n      <td>172786.0</td>\n      <td>-11.881118</td>\n      <td>10.071785</td>\n      <td>-9.834783</td>\n      <td>-2.066656</td>\n      <td>-5.364473</td>\n      <td>-2.606837</td>\n      <td>-4.918215</td>\n      <td>7.305334</td>\n      <td>1.914428</td>\n      <td>...</td>\n      <td>0.213454</td>\n      <td>0.111864</td>\n      <td>1.014480</td>\n      <td>-0.509348</td>\n      <td>1.436807</td>\n      <td>0.250034</td>\n      <td>0.943651</td>\n      <td>0.823731</td>\n      <td>0.77</td>\n      <td>0</td>\n    </tr>\n    <tr>\n      <th>284803</th>\n      <td>172787.0</td>\n      <td>-0.732789</td>\n      <td>-0.055080</td>\n      <td>2.035030</td>\n      <td>-0.738589</td>\n      <td>0.868229</td>\n      <td>1.058415</td>\n      <td>0.024330</td>\n      <td>0.294869</td>\n      <td>0.584800</td>\n      <td>...</td>\n      <td>0.214205</td>\n      <td>0.924384</td>\n      <td>0.012463</td>\n      <td>-1.016226</td>\n      <td>-0.606624</td>\n      <td>-0.395255</td>\n      <td>0.068472</td>\n      <td>-0.053527</td>\n      <td>24.79</td>\n      <td>0</td>\n    </tr>\n    <tr>\n      <th>284804</th>\n      <td>172788.0</td>\n      <td>1.919565</td>\n      <td>-0.301254</td>\n      <td>-3.249640</td>\n      <td>-0.557828</td>\n      <td>2.630515</td>\n      <td>3.031260</td>\n      <td>-0.296827</td>\n      <td>0.708417</td>\n      <td>0.432454</td>\n      <td>...</td>\n      <td>0.232045</td>\n      <td>0.578229</td>\n      <td>-0.037501</td>\n      <td>0.640134</td>\n      <td>0.265745</td>\n      <td>-0.087371</td>\n      <td>0.004455</td>\n      <td>-0.026561</td>\n      <td>67.88</td>\n      <td>0</td>\n    </tr>\n    <tr>\n      <th>284805</th>\n      <td>172788.0</td>\n      <td>-0.240440</td>\n      <td>0.530483</td>\n      <td>0.702510</td>\n      <td>0.689799</td>\n      <td>-0.377961</td>\n      <td>0.623708</td>\n      <td>-0.686180</td>\n      <td>0.679145</td>\n      <td>0.392087</td>\n      <td>...</td>\n      <td>0.265245</td>\n      <td>0.800049</td>\n      <td>-0.163298</td>\n      <td>0.123205</td>\n      <td>-0.569159</td>\n      <td>0.546668</td>\n      <td>0.108821</td>\n      <td>0.104533</td>\n      <td>10.00</td>\n      <td>0</td>\n    </tr>\n    <tr>\n      <th>284806</th>\n      <td>172792.0</td>\n      <td>-0.533413</td>\n      <td>-0.189733</td>\n      <td>0.703337</td>\n      <td>-0.506271</td>\n      <td>-0.012546</td>\n      <td>-0.649617</td>\n      <td>1.577006</td>\n      <td>-0.414650</td>\n      <td>0.486180</td>\n      <td>...</td>\n      <td>0.261057</td>\n      <td>0.643078</td>\n      <td>0.376777</td>\n      <td>0.008797</td>\n      <td>-0.473649</td>\n      <td>-0.818267</td>\n      <td>-0.002415</td>\n      <td>0.013649</td>\n      <td>217.00</td>\n      <td>0</td>\n    </tr>\n  </tbody>\n</table>\n<p>5 rows × 31 columns</p>\n</div>"
     },
     "execution_count": 4,
     "metadata": {},
     "output_type": "execute_result"
    }
   ],
   "source": [
    "# last 5 rows of the dataset\n",
    "data.tail()"
   ],
   "metadata": {
    "collapsed": false,
    "pycharm": {
     "name": "#%%\n"
    }
   }
  },
  {
   "cell_type": "code",
   "execution_count": 5,
   "outputs": [
    {
     "name": "stdout",
     "output_type": "stream",
     "text": [
      "<class 'pandas.core.frame.DataFrame'>\n",
      "RangeIndex: 284807 entries, 0 to 284806\n",
      "Data columns (total 31 columns):\n",
      " #   Column  Non-Null Count   Dtype  \n",
      "---  ------  --------------   -----  \n",
      " 0   Time    284807 non-null  float64\n",
      " 1   V1      284807 non-null  float64\n",
      " 2   V2      284807 non-null  float64\n",
      " 3   V3      284807 non-null  float64\n",
      " 4   V4      284807 non-null  float64\n",
      " 5   V5      284807 non-null  float64\n",
      " 6   V6      284807 non-null  float64\n",
      " 7   V7      284807 non-null  float64\n",
      " 8   V8      284807 non-null  float64\n",
      " 9   V9      284807 non-null  float64\n",
      " 10  V10     284807 non-null  float64\n",
      " 11  V11     284807 non-null  float64\n",
      " 12  V12     284807 non-null  float64\n",
      " 13  V13     284807 non-null  float64\n",
      " 14  V14     284807 non-null  float64\n",
      " 15  V15     284807 non-null  float64\n",
      " 16  V16     284807 non-null  float64\n",
      " 17  V17     284807 non-null  float64\n",
      " 18  V18     284807 non-null  float64\n",
      " 19  V19     284807 non-null  float64\n",
      " 20  V20     284807 non-null  float64\n",
      " 21  V21     284807 non-null  float64\n",
      " 22  V22     284807 non-null  float64\n",
      " 23  V23     284807 non-null  float64\n",
      " 24  V24     284807 non-null  float64\n",
      " 25  V25     284807 non-null  float64\n",
      " 26  V26     284807 non-null  float64\n",
      " 27  V27     284807 non-null  float64\n",
      " 28  V28     284807 non-null  float64\n",
      " 29  Amount  284807 non-null  float64\n",
      " 30  Class   284807 non-null  int64  \n",
      "dtypes: float64(30), int64(1)\n",
      "memory usage: 67.4 MB\n"
     ]
    }
   ],
   "source": [
    "# dataset information\n",
    "data.info()"
   ],
   "metadata": {
    "collapsed": false,
    "pycharm": {
     "name": "#%%\n"
    }
   }
  },
  {
   "cell_type": "code",
   "execution_count": 6,
   "outputs": [
    {
     "data": {
      "text/plain": "Time      0\nV1        0\nV2        0\nV3        0\nV4        0\nV5        0\nV6        0\nV7        0\nV8        0\nV9        0\nV10       0\nV11       0\nV12       0\nV13       0\nV14       0\nV15       0\nV16       0\nV17       0\nV18       0\nV19       0\nV20       0\nV21       0\nV22       0\nV23       0\nV24       0\nV25       0\nV26       0\nV27       0\nV28       0\nAmount    0\nClass     0\ndtype: int64"
     },
     "execution_count": 6,
     "metadata": {},
     "output_type": "execute_result"
    }
   ],
   "source": [
    "# check missing values\n",
    "data.isnull().sum()"
   ],
   "metadata": {
    "collapsed": false,
    "pycharm": {
     "name": "#%%\n"
    }
   }
  },
  {
   "cell_type": "code",
   "execution_count": 7,
   "outputs": [
    {
     "data": {
      "text/plain": "Time      492\nV1        492\nV2        492\nV3        492\nV4        492\nV5        492\nV6        492\nV7        492\nV8        492\nV9        492\nV10       492\nV11       492\nV12       492\nV13       492\nV14       492\nV15       492\nV16       492\nV17       492\nV18       492\nV19       492\nV20       492\nV21       492\nV22       492\nV23       492\nV24       492\nV25       492\nV26       492\nV27       492\nV28       492\nAmount    492\nClass     492\ndtype: int64"
     },
     "execution_count": 7,
     "metadata": {},
     "output_type": "execute_result"
    }
   ],
   "source": [
    "#  distribution of legit transactions & fraudulent transactions\n",
    "data[data['Class']==1].count()"
   ],
   "metadata": {
    "collapsed": false,
    "pycharm": {
     "name": "#%%\n"
    }
   }
  },
  {
   "cell_type": "code",
   "execution_count": 8,
   "outputs": [
    {
     "data": {
      "text/plain": "Time      284315\nV1        284315\nV2        284315\nV3        284315\nV4        284315\nV5        284315\nV6        284315\nV7        284315\nV8        284315\nV9        284315\nV10       284315\nV11       284315\nV12       284315\nV13       284315\nV14       284315\nV15       284315\nV16       284315\nV17       284315\nV18       284315\nV19       284315\nV20       284315\nV21       284315\nV22       284315\nV23       284315\nV24       284315\nV25       284315\nV26       284315\nV27       284315\nV28       284315\nAmount    284315\nClass     284315\ndtype: int64"
     },
     "execution_count": 8,
     "metadata": {},
     "output_type": "execute_result"
    }
   ],
   "source": [
    "data[data['Class']==0].count()"
   ],
   "metadata": {
    "collapsed": false,
    "pycharm": {
     "name": "#%%\n"
    }
   }
  },
  {
   "cell_type": "code",
   "execution_count": 9,
   "outputs": [
    {
     "data": {
      "text/plain": "                Time            V1            V2            V3            V4  \\\ncount  284807.000000  2.848070e+05  2.848070e+05  2.848070e+05  2.848070e+05   \nmean    94813.859575  1.165980e-15  3.416908e-16 -1.373150e-15  2.086869e-15   \nstd     47488.145955  1.958696e+00  1.651309e+00  1.516255e+00  1.415869e+00   \nmin         0.000000 -5.640751e+01 -7.271573e+01 -4.832559e+01 -5.683171e+00   \n25%     54201.500000 -9.203734e-01 -5.985499e-01 -8.903648e-01 -8.486401e-01   \n50%     84692.000000  1.810880e-02  6.548556e-02  1.798463e-01 -1.984653e-02   \n75%    139320.500000  1.315642e+00  8.037239e-01  1.027196e+00  7.433413e-01   \nmax    172792.000000  2.454930e+00  2.205773e+01  9.382558e+00  1.687534e+01   \n\n                 V5            V6            V7            V8            V9  \\\ncount  2.848070e+05  2.848070e+05  2.848070e+05  2.848070e+05  2.848070e+05   \nmean   9.604066e-16  1.490107e-15 -5.556467e-16  1.177556e-16 -2.406455e-15   \nstd    1.380247e+00  1.332271e+00  1.237094e+00  1.194353e+00  1.098632e+00   \nmin   -1.137433e+02 -2.616051e+01 -4.355724e+01 -7.321672e+01 -1.343407e+01   \n25%   -6.915971e-01 -7.682956e-01 -5.540759e-01 -2.086297e-01 -6.430976e-01   \n50%   -5.433583e-02 -2.741871e-01  4.010308e-02  2.235804e-02 -5.142873e-02   \n75%    6.119264e-01  3.985649e-01  5.704361e-01  3.273459e-01  5.971390e-01   \nmax    3.480167e+01  7.330163e+01  1.205895e+02  2.000721e+01  1.559499e+01   \n\n       ...           V21           V22           V23           V24  \\\ncount  ...  2.848070e+05  2.848070e+05  2.848070e+05  2.848070e+05   \nmean   ...  1.656562e-16 -3.444850e-16  2.578648e-16  4.471968e-15   \nstd    ...  7.345240e-01  7.257016e-01  6.244603e-01  6.056471e-01   \nmin    ... -3.483038e+01 -1.093314e+01 -4.480774e+01 -2.836627e+00   \n25%    ... -2.283949e-01 -5.423504e-01 -1.618463e-01 -3.545861e-01   \n50%    ... -2.945017e-02  6.781943e-03 -1.119293e-02  4.097606e-02   \n75%    ...  1.863772e-01  5.285536e-01  1.476421e-01  4.395266e-01   \nmax    ...  2.720284e+01  1.050309e+01  2.252841e+01  4.584549e+00   \n\n                V25           V26           V27           V28         Amount  \\\ncount  2.848070e+05  2.848070e+05  2.848070e+05  2.848070e+05  284807.000000   \nmean   5.340915e-16  1.687098e-15 -3.666453e-16 -1.220404e-16      88.349619   \nstd    5.212781e-01  4.822270e-01  4.036325e-01  3.300833e-01     250.120109   \nmin   -1.029540e+01 -2.604551e+00 -2.256568e+01 -1.543008e+01       0.000000   \n25%   -3.171451e-01 -3.269839e-01 -7.083953e-02 -5.295979e-02       5.600000   \n50%    1.659350e-02 -5.213911e-02  1.342146e-03  1.124383e-02      22.000000   \n75%    3.507156e-01  2.409522e-01  9.104512e-02  7.827995e-02      77.165000   \nmax    7.519589e+00  3.517346e+00  3.161220e+01  3.384781e+01   25691.160000   \n\n               Class  \ncount  284807.000000  \nmean        0.001727  \nstd         0.041527  \nmin         0.000000  \n25%         0.000000  \n50%         0.000000  \n75%         0.000000  \nmax         1.000000  \n\n[8 rows x 31 columns]",
      "text/html": "<div>\n<style scoped>\n    .dataframe tbody tr th:only-of-type {\n        vertical-align: middle;\n    }\n\n    .dataframe tbody tr th {\n        vertical-align: top;\n    }\n\n    .dataframe thead th {\n        text-align: right;\n    }\n</style>\n<table border=\"1\" class=\"dataframe\">\n  <thead>\n    <tr style=\"text-align: right;\">\n      <th></th>\n      <th>Time</th>\n      <th>V1</th>\n      <th>V2</th>\n      <th>V3</th>\n      <th>V4</th>\n      <th>V5</th>\n      <th>V6</th>\n      <th>V7</th>\n      <th>V8</th>\n      <th>V9</th>\n      <th>...</th>\n      <th>V21</th>\n      <th>V22</th>\n      <th>V23</th>\n      <th>V24</th>\n      <th>V25</th>\n      <th>V26</th>\n      <th>V27</th>\n      <th>V28</th>\n      <th>Amount</th>\n      <th>Class</th>\n    </tr>\n  </thead>\n  <tbody>\n    <tr>\n      <th>count</th>\n      <td>284807.000000</td>\n      <td>2.848070e+05</td>\n      <td>2.848070e+05</td>\n      <td>2.848070e+05</td>\n      <td>2.848070e+05</td>\n      <td>2.848070e+05</td>\n      <td>2.848070e+05</td>\n      <td>2.848070e+05</td>\n      <td>2.848070e+05</td>\n      <td>2.848070e+05</td>\n      <td>...</td>\n      <td>2.848070e+05</td>\n      <td>2.848070e+05</td>\n      <td>2.848070e+05</td>\n      <td>2.848070e+05</td>\n      <td>2.848070e+05</td>\n      <td>2.848070e+05</td>\n      <td>2.848070e+05</td>\n      <td>2.848070e+05</td>\n      <td>284807.000000</td>\n      <td>284807.000000</td>\n    </tr>\n    <tr>\n      <th>mean</th>\n      <td>94813.859575</td>\n      <td>1.165980e-15</td>\n      <td>3.416908e-16</td>\n      <td>-1.373150e-15</td>\n      <td>2.086869e-15</td>\n      <td>9.604066e-16</td>\n      <td>1.490107e-15</td>\n      <td>-5.556467e-16</td>\n      <td>1.177556e-16</td>\n      <td>-2.406455e-15</td>\n      <td>...</td>\n      <td>1.656562e-16</td>\n      <td>-3.444850e-16</td>\n      <td>2.578648e-16</td>\n      <td>4.471968e-15</td>\n      <td>5.340915e-16</td>\n      <td>1.687098e-15</td>\n      <td>-3.666453e-16</td>\n      <td>-1.220404e-16</td>\n      <td>88.349619</td>\n      <td>0.001727</td>\n    </tr>\n    <tr>\n      <th>std</th>\n      <td>47488.145955</td>\n      <td>1.958696e+00</td>\n      <td>1.651309e+00</td>\n      <td>1.516255e+00</td>\n      <td>1.415869e+00</td>\n      <td>1.380247e+00</td>\n      <td>1.332271e+00</td>\n      <td>1.237094e+00</td>\n      <td>1.194353e+00</td>\n      <td>1.098632e+00</td>\n      <td>...</td>\n      <td>7.345240e-01</td>\n      <td>7.257016e-01</td>\n      <td>6.244603e-01</td>\n      <td>6.056471e-01</td>\n      <td>5.212781e-01</td>\n      <td>4.822270e-01</td>\n      <td>4.036325e-01</td>\n      <td>3.300833e-01</td>\n      <td>250.120109</td>\n      <td>0.041527</td>\n    </tr>\n    <tr>\n      <th>min</th>\n      <td>0.000000</td>\n      <td>-5.640751e+01</td>\n      <td>-7.271573e+01</td>\n      <td>-4.832559e+01</td>\n      <td>-5.683171e+00</td>\n      <td>-1.137433e+02</td>\n      <td>-2.616051e+01</td>\n      <td>-4.355724e+01</td>\n      <td>-7.321672e+01</td>\n      <td>-1.343407e+01</td>\n      <td>...</td>\n      <td>-3.483038e+01</td>\n      <td>-1.093314e+01</td>\n      <td>-4.480774e+01</td>\n      <td>-2.836627e+00</td>\n      <td>-1.029540e+01</td>\n      <td>-2.604551e+00</td>\n      <td>-2.256568e+01</td>\n      <td>-1.543008e+01</td>\n      <td>0.000000</td>\n      <td>0.000000</td>\n    </tr>\n    <tr>\n      <th>25%</th>\n      <td>54201.500000</td>\n      <td>-9.203734e-01</td>\n      <td>-5.985499e-01</td>\n      <td>-8.903648e-01</td>\n      <td>-8.486401e-01</td>\n      <td>-6.915971e-01</td>\n      <td>-7.682956e-01</td>\n      <td>-5.540759e-01</td>\n      <td>-2.086297e-01</td>\n      <td>-6.430976e-01</td>\n      <td>...</td>\n      <td>-2.283949e-01</td>\n      <td>-5.423504e-01</td>\n      <td>-1.618463e-01</td>\n      <td>-3.545861e-01</td>\n      <td>-3.171451e-01</td>\n      <td>-3.269839e-01</td>\n      <td>-7.083953e-02</td>\n      <td>-5.295979e-02</td>\n      <td>5.600000</td>\n      <td>0.000000</td>\n    </tr>\n    <tr>\n      <th>50%</th>\n      <td>84692.000000</td>\n      <td>1.810880e-02</td>\n      <td>6.548556e-02</td>\n      <td>1.798463e-01</td>\n      <td>-1.984653e-02</td>\n      <td>-5.433583e-02</td>\n      <td>-2.741871e-01</td>\n      <td>4.010308e-02</td>\n      <td>2.235804e-02</td>\n      <td>-5.142873e-02</td>\n      <td>...</td>\n      <td>-2.945017e-02</td>\n      <td>6.781943e-03</td>\n      <td>-1.119293e-02</td>\n      <td>4.097606e-02</td>\n      <td>1.659350e-02</td>\n      <td>-5.213911e-02</td>\n      <td>1.342146e-03</td>\n      <td>1.124383e-02</td>\n      <td>22.000000</td>\n      <td>0.000000</td>\n    </tr>\n    <tr>\n      <th>75%</th>\n      <td>139320.500000</td>\n      <td>1.315642e+00</td>\n      <td>8.037239e-01</td>\n      <td>1.027196e+00</td>\n      <td>7.433413e-01</td>\n      <td>6.119264e-01</td>\n      <td>3.985649e-01</td>\n      <td>5.704361e-01</td>\n      <td>3.273459e-01</td>\n      <td>5.971390e-01</td>\n      <td>...</td>\n      <td>1.863772e-01</td>\n      <td>5.285536e-01</td>\n      <td>1.476421e-01</td>\n      <td>4.395266e-01</td>\n      <td>3.507156e-01</td>\n      <td>2.409522e-01</td>\n      <td>9.104512e-02</td>\n      <td>7.827995e-02</td>\n      <td>77.165000</td>\n      <td>0.000000</td>\n    </tr>\n    <tr>\n      <th>max</th>\n      <td>172792.000000</td>\n      <td>2.454930e+00</td>\n      <td>2.205773e+01</td>\n      <td>9.382558e+00</td>\n      <td>1.687534e+01</td>\n      <td>3.480167e+01</td>\n      <td>7.330163e+01</td>\n      <td>1.205895e+02</td>\n      <td>2.000721e+01</td>\n      <td>1.559499e+01</td>\n      <td>...</td>\n      <td>2.720284e+01</td>\n      <td>1.050309e+01</td>\n      <td>2.252841e+01</td>\n      <td>4.584549e+00</td>\n      <td>7.519589e+00</td>\n      <td>3.517346e+00</td>\n      <td>3.161220e+01</td>\n      <td>3.384781e+01</td>\n      <td>25691.160000</td>\n      <td>1.000000</td>\n    </tr>\n  </tbody>\n</table>\n<p>8 rows × 31 columns</p>\n</div>"
     },
     "execution_count": 9,
     "metadata": {},
     "output_type": "execute_result"
    }
   ],
   "source": [
    "# statistical measures of the dataset\n",
    "data.describe()"
   ],
   "metadata": {
    "collapsed": false,
    "pycharm": {
     "name": "#%%\n"
    }
   }
  },
  {
   "cell_type": "code",
   "execution_count": 10,
   "outputs": [
    {
     "data": {
      "text/plain": "0    284315\n1       492\nName: Class, dtype: int64"
     },
     "execution_count": 10,
     "metadata": {},
     "output_type": "execute_result"
    }
   ],
   "source": [
    "# distribution of legit transactions & fraudulent transaction\n",
    "data['Class'].value_counts()"
   ],
   "metadata": {
    "collapsed": false,
    "pycharm": {
     "name": "#%%\n"
    }
   }
  },
  {
   "cell_type": "code",
   "execution_count": 11,
   "outputs": [
    {
     "name": "stdout",
     "output_type": "stream",
     "text": [
      "Total fraud = 492\n",
      "Total legit = 284315\n"
     ]
    }
   ],
   "source": [
    "fraud = data[data['Class'] == 1]\n",
    "legit = data[data['Class'] == 0]\n",
    "fraud_count = fraud.shape[0]\n",
    "legit_count = legit.shape[0]\n",
    "\n",
    "print(f\"Total fraud = {fraud_count}\")\n",
    "print(f\"Total legit = {legit_count}\")\n"
   ],
   "metadata": {
    "collapsed": false,
    "pycharm": {
     "name": "#%%\n"
    }
   }
  },
  {
   "cell_type": "code",
   "execution_count": 12,
   "outputs": [],
   "source": [
    "# separating the data for analysis\n",
    "legit = data[data['Class'] == 0]\n",
    "fraud = data[data['Class'] == 1]"
   ],
   "metadata": {
    "collapsed": false,
    "pycharm": {
     "name": "#%%\n"
    }
   }
  },
  {
   "cell_type": "code",
   "execution_count": 13,
   "outputs": [
    {
     "name": "stdout",
     "output_type": "stream",
     "text": [
      "Legit =             Time         V1         V2        V3        V4        V5  \\\n",
      "0            0.0  -1.359807  -0.072781  2.536347  1.378155 -0.338321   \n",
      "1            0.0   1.191857   0.266151  0.166480  0.448154  0.060018   \n",
      "2            1.0  -1.358354  -1.340163  1.773209  0.379780 -0.503198   \n",
      "3            1.0  -0.966272  -0.185226  1.792993 -0.863291 -0.010309   \n",
      "4            2.0  -1.158233   0.877737  1.548718  0.403034 -0.407193   \n",
      "...          ...        ...        ...       ...       ...       ...   \n",
      "284802  172786.0 -11.881118  10.071785 -9.834783 -2.066656 -5.364473   \n",
      "284803  172787.0  -0.732789  -0.055080  2.035030 -0.738589  0.868229   \n",
      "284804  172788.0   1.919565  -0.301254 -3.249640 -0.557828  2.630515   \n",
      "284805  172788.0  -0.240440   0.530483  0.702510  0.689799 -0.377961   \n",
      "284806  172792.0  -0.533413  -0.189733  0.703337 -0.506271 -0.012546   \n",
      "\n",
      "              V6        V7        V8        V9  ...       V21       V22  \\\n",
      "0       0.462388  0.239599  0.098698  0.363787  ... -0.018307  0.277838   \n",
      "1      -0.082361 -0.078803  0.085102 -0.255425  ... -0.225775 -0.638672   \n",
      "2       1.800499  0.791461  0.247676 -1.514654  ...  0.247998  0.771679   \n",
      "3       1.247203  0.237609  0.377436 -1.387024  ... -0.108300  0.005274   \n",
      "4       0.095921  0.592941 -0.270533  0.817739  ... -0.009431  0.798278   \n",
      "...          ...       ...       ...       ...  ...       ...       ...   \n",
      "284802 -2.606837 -4.918215  7.305334  1.914428  ...  0.213454  0.111864   \n",
      "284803  1.058415  0.024330  0.294869  0.584800  ...  0.214205  0.924384   \n",
      "284804  3.031260 -0.296827  0.708417  0.432454  ...  0.232045  0.578229   \n",
      "284805  0.623708 -0.686180  0.679145  0.392087  ...  0.265245  0.800049   \n",
      "284806 -0.649617  1.577006 -0.414650  0.486180  ...  0.261057  0.643078   \n",
      "\n",
      "             V23       V24       V25       V26       V27       V28  Amount  \\\n",
      "0      -0.110474  0.066928  0.128539 -0.189115  0.133558 -0.021053  149.62   \n",
      "1       0.101288 -0.339846  0.167170  0.125895 -0.008983  0.014724    2.69   \n",
      "2       0.909412 -0.689281 -0.327642 -0.139097 -0.055353 -0.059752  378.66   \n",
      "3      -0.190321 -1.175575  0.647376 -0.221929  0.062723  0.061458  123.50   \n",
      "4      -0.137458  0.141267 -0.206010  0.502292  0.219422  0.215153   69.99   \n",
      "...          ...       ...       ...       ...       ...       ...     ...   \n",
      "284802  1.014480 -0.509348  1.436807  0.250034  0.943651  0.823731    0.77   \n",
      "284803  0.012463 -1.016226 -0.606624 -0.395255  0.068472 -0.053527   24.79   \n",
      "284804 -0.037501  0.640134  0.265745 -0.087371  0.004455 -0.026561   67.88   \n",
      "284805 -0.163298  0.123205 -0.569159  0.546668  0.108821  0.104533   10.00   \n",
      "284806  0.376777  0.008797 -0.473649 -0.818267 -0.002415  0.013649  217.00   \n",
      "\n",
      "        Class  \n",
      "0           0  \n",
      "1           0  \n",
      "2           0  \n",
      "3           0  \n",
      "4           0  \n",
      "...       ...  \n",
      "284802      0  \n",
      "284803      0  \n",
      "284804      0  \n",
      "284805      0  \n",
      "284806      0  \n",
      "\n",
      "[284315 rows x 31 columns]\n"
     ]
    }
   ],
   "source": [
    "print(f\"Legit = {legit}\")"
   ],
   "metadata": {
    "collapsed": false,
    "pycharm": {
     "name": "#%%\n"
    }
   }
  },
  {
   "cell_type": "code",
   "execution_count": 14,
   "outputs": [
    {
     "name": "stdout",
     "output_type": "stream",
     "text": [
      "Fraud =             Time        V1        V2        V3        V4        V5        V6  \\\n",
      "541        406.0 -2.312227  1.951992 -1.609851  3.997906 -0.522188 -1.426545   \n",
      "623        472.0 -3.043541 -3.157307  1.088463  2.288644  1.359805 -1.064823   \n",
      "4920      4462.0 -2.303350  1.759247 -0.359745  2.330243 -0.821628 -0.075788   \n",
      "6108      6986.0 -4.397974  1.358367 -2.592844  2.679787 -1.128131 -1.706536   \n",
      "6329      7519.0  1.234235  3.019740 -4.304597  4.732795  3.624201 -1.357746   \n",
      "...          ...       ...       ...       ...       ...       ...       ...   \n",
      "279863  169142.0 -1.927883  1.125653 -4.518331  1.749293 -1.566487 -2.010494   \n",
      "280143  169347.0  1.378559  1.289381 -5.004247  1.411850  0.442581 -1.326536   \n",
      "280149  169351.0 -0.676143  1.126366 -2.213700  0.468308 -1.120541 -0.003346   \n",
      "281144  169966.0 -3.113832  0.585864 -5.399730  1.817092 -0.840618 -2.943548   \n",
      "281674  170348.0  1.991976  0.158476 -2.583441  0.408670  1.151147 -0.096695   \n",
      "\n",
      "              V7        V8        V9  ...       V21       V22       V23  \\\n",
      "541    -2.537387  1.391657 -2.770089  ...  0.517232 -0.035049 -0.465211   \n",
      "623     0.325574 -0.067794 -0.270953  ...  0.661696  0.435477  1.375966   \n",
      "4920    0.562320 -0.399147 -0.238253  ... -0.294166 -0.932391  0.172726   \n",
      "6108   -3.496197 -0.248778 -0.247768  ...  0.573574  0.176968 -0.436207   \n",
      "6329    1.713445 -0.496358 -1.282858  ... -0.379068 -0.704181 -0.656805   \n",
      "...          ...       ...       ...  ...       ...       ...       ...   \n",
      "279863 -0.882850  0.697211 -2.064945  ...  0.778584 -0.319189  0.639419   \n",
      "280143 -1.413170  0.248525 -1.127396  ...  0.370612  0.028234 -0.145640   \n",
      "280149 -2.234739  1.210158 -0.652250  ...  0.751826  0.834108  0.190944   \n",
      "281144 -2.208002  1.058733 -1.632333  ...  0.583276 -0.269209 -0.456108   \n",
      "281674  0.223050 -0.068384  0.577829  ... -0.164350 -0.295135 -0.072173   \n",
      "\n",
      "             V24       V25       V26       V27       V28  Amount  Class  \n",
      "541     0.320198  0.044519  0.177840  0.261145 -0.143276    0.00      1  \n",
      "623    -0.293803  0.279798 -0.145362 -0.252773  0.035764  529.00      1  \n",
      "4920   -0.087330 -0.156114 -0.542628  0.039566 -0.153029  239.93      1  \n",
      "6108   -0.053502  0.252405 -0.657488 -0.827136  0.849573   59.00      1  \n",
      "6329   -1.632653  1.488901  0.566797 -0.010016  0.146793    1.00      1  \n",
      "...          ...       ...       ...       ...       ...     ...    ...  \n",
      "279863 -0.294885  0.537503  0.788395  0.292680  0.147968  390.00      1  \n",
      "280143 -0.081049  0.521875  0.739467  0.389152  0.186637    0.76      1  \n",
      "280149  0.032070 -0.739695  0.471111  0.385107  0.194361   77.89      1  \n",
      "281144 -0.183659 -0.328168  0.606116  0.884876 -0.253700  245.00      1  \n",
      "281674 -0.450261  0.313267 -0.289617  0.002988 -0.015309   42.53      1  \n",
      "\n",
      "[492 rows x 31 columns]\n"
     ]
    }
   ],
   "source": [
    "print(f\"Fraud = {fraud}\")"
   ],
   "metadata": {
    "collapsed": false,
    "pycharm": {
     "name": "#%%\n"
    }
   }
  },
  {
   "cell_type": "code",
   "execution_count": 15,
   "outputs": [
    {
     "name": "stdout",
     "output_type": "stream",
     "text": [
      "Shape of Legit = (284315, 31)\n",
      "Shape of Fraud = (492, 31)\n"
     ]
    }
   ],
   "source": [
    "# print shape of legit and fraud\n",
    "print(f\"Shape of Legit = {legit.shape}\")\n",
    "print(f\"Shape of Fraud = {fraud.shape}\")"
   ],
   "metadata": {
    "collapsed": false,
    "pycharm": {
     "name": "#%%\n"
    }
   }
  },
  {
   "cell_type": "code",
   "execution_count": 16,
   "outputs": [
    {
     "data": {
      "text/plain": "count    284315.000000\nmean         88.291022\nstd         250.105092\nmin           0.000000\n25%           5.650000\n50%          22.000000\n75%          77.050000\nmax       25691.160000\nName: Amount, dtype: float64"
     },
     "execution_count": 16,
     "metadata": {},
     "output_type": "execute_result"
    }
   ],
   "source": [
    "# statistical measures of legit transaction\n",
    "legit.Amount.describe()"
   ],
   "metadata": {
    "collapsed": false,
    "pycharm": {
     "name": "#%%\n"
    }
   }
  },
  {
   "cell_type": "code",
   "execution_count": 17,
   "outputs": [
    {
     "data": {
      "text/plain": "count     492.000000\nmean      122.211321\nstd       256.683288\nmin         0.000000\n25%         1.000000\n50%         9.250000\n75%       105.890000\nmax      2125.870000\nName: Amount, dtype: float64"
     },
     "execution_count": 17,
     "metadata": {},
     "output_type": "execute_result"
    }
   ],
   "source": [
    "# statistical measures of fraudulent transaction\n",
    "fraud.Amount.describe()"
   ],
   "metadata": {
    "collapsed": false,
    "pycharm": {
     "name": "#%%\n"
    }
   }
  },
  {
   "cell_type": "code",
   "execution_count": 18,
   "outputs": [
    {
     "data": {
      "text/plain": "               Time        V1        V2        V3        V4        V5  \\\nClass                                                                   \n0      94838.202258  0.008258 -0.006271  0.012171 -0.007860  0.005453   \n1      80746.806911 -4.771948  3.623778 -7.033281  4.542029 -3.151225   \n\n             V6        V7        V8        V9  ...       V20       V21  \\\nClass                                          ...                       \n0      0.002419  0.009637 -0.000987  0.004467  ... -0.000644 -0.001235   \n1     -1.397737 -5.568731  0.570636 -2.581123  ...  0.372319  0.713588   \n\n            V22       V23       V24       V25       V26       V27       V28  \\\nClass                                                                         \n0     -0.000024  0.000070  0.000182 -0.000072 -0.000089 -0.000295 -0.000131   \n1      0.014049 -0.040308 -0.105130  0.041449  0.051648  0.170575  0.075667   \n\n           Amount  \nClass              \n0       88.291022  \n1      122.211321  \n\n[2 rows x 30 columns]",
      "text/html": "<div>\n<style scoped>\n    .dataframe tbody tr th:only-of-type {\n        vertical-align: middle;\n    }\n\n    .dataframe tbody tr th {\n        vertical-align: top;\n    }\n\n    .dataframe thead th {\n        text-align: right;\n    }\n</style>\n<table border=\"1\" class=\"dataframe\">\n  <thead>\n    <tr style=\"text-align: right;\">\n      <th></th>\n      <th>Time</th>\n      <th>V1</th>\n      <th>V2</th>\n      <th>V3</th>\n      <th>V4</th>\n      <th>V5</th>\n      <th>V6</th>\n      <th>V7</th>\n      <th>V8</th>\n      <th>V9</th>\n      <th>...</th>\n      <th>V20</th>\n      <th>V21</th>\n      <th>V22</th>\n      <th>V23</th>\n      <th>V24</th>\n      <th>V25</th>\n      <th>V26</th>\n      <th>V27</th>\n      <th>V28</th>\n      <th>Amount</th>\n    </tr>\n    <tr>\n      <th>Class</th>\n      <th></th>\n      <th></th>\n      <th></th>\n      <th></th>\n      <th></th>\n      <th></th>\n      <th></th>\n      <th></th>\n      <th></th>\n      <th></th>\n      <th></th>\n      <th></th>\n      <th></th>\n      <th></th>\n      <th></th>\n      <th></th>\n      <th></th>\n      <th></th>\n      <th></th>\n      <th></th>\n      <th></th>\n    </tr>\n  </thead>\n  <tbody>\n    <tr>\n      <th>0</th>\n      <td>94838.202258</td>\n      <td>0.008258</td>\n      <td>-0.006271</td>\n      <td>0.012171</td>\n      <td>-0.007860</td>\n      <td>0.005453</td>\n      <td>0.002419</td>\n      <td>0.009637</td>\n      <td>-0.000987</td>\n      <td>0.004467</td>\n      <td>...</td>\n      <td>-0.000644</td>\n      <td>-0.001235</td>\n      <td>-0.000024</td>\n      <td>0.000070</td>\n      <td>0.000182</td>\n      <td>-0.000072</td>\n      <td>-0.000089</td>\n      <td>-0.000295</td>\n      <td>-0.000131</td>\n      <td>88.291022</td>\n    </tr>\n    <tr>\n      <th>1</th>\n      <td>80746.806911</td>\n      <td>-4.771948</td>\n      <td>3.623778</td>\n      <td>-7.033281</td>\n      <td>4.542029</td>\n      <td>-3.151225</td>\n      <td>-1.397737</td>\n      <td>-5.568731</td>\n      <td>0.570636</td>\n      <td>-2.581123</td>\n      <td>...</td>\n      <td>0.372319</td>\n      <td>0.713588</td>\n      <td>0.014049</td>\n      <td>-0.040308</td>\n      <td>-0.105130</td>\n      <td>0.041449</td>\n      <td>0.051648</td>\n      <td>0.170575</td>\n      <td>0.075667</td>\n      <td>122.211321</td>\n    </tr>\n  </tbody>\n</table>\n<p>2 rows × 30 columns</p>\n</div>"
     },
     "execution_count": 18,
     "metadata": {},
     "output_type": "execute_result"
    }
   ],
   "source": [
    "# compare the values for both transactions\n",
    "data.groupby('Class').mean()"
   ],
   "metadata": {
    "collapsed": false,
    "pycharm": {
     "name": "#%%\n"
    }
   }
  },
  {
   "cell_type": "markdown",
   "source": [
    "## Under-Sampling"
   ],
   "metadata": {
    "collapsed": false,
    "pycharm": {
     "name": "#%% md\n"
    }
   }
  },
  {
   "cell_type": "code",
   "execution_count": 19,
   "outputs": [],
   "source": [
    "#Number of Fraudulent Transactions --> 492\n",
    "#Number of Legit Transactions --> 487\n",
    "legit_sample = legit.sample(n=492)\n",
    "fraud_sample =  fraud.sample(n=492)"
   ],
   "metadata": {
    "collapsed": false,
    "pycharm": {
     "name": "#%%\n"
    }
   }
  },
  {
   "cell_type": "code",
   "execution_count": 20,
   "outputs": [
    {
     "name": "stdout",
     "output_type": "stream",
     "text": [
      "Fraud =             Time         V1        V2         V3         V4        V5  \\\n",
      "96341    65728.0   1.227614 -0.668974  -0.271785  -0.589440 -0.604795   \n",
      "154693  102619.0  -2.488363  4.359019  -7.776410   5.364027 -1.823877   \n",
      "27362    34521.0   1.081234  0.416414   0.862919   2.520863 -0.005021   \n",
      "154697  102625.0  -4.221221  2.871121  -5.888716   6.890952 -3.404894   \n",
      "11343    19762.0 -14.179165  7.421370 -21.405836  11.927512 -7.974281   \n",
      "...          ...        ...       ...        ...        ...       ...   \n",
      "30442    35926.0  -3.896583  4.518355  -4.454027   5.547453 -4.121459   \n",
      "149869   92092.0  -1.108478  3.448953  -6.216972   3.021052 -0.529901   \n",
      "6472      7740.0   1.023874  2.001485  -4.769752   3.819195 -1.271754   \n",
      "203700  134928.0   1.204934  3.238070  -6.010324   5.720847  1.548400   \n",
      "154454  101597.0   0.913116  1.145381  -4.602878   2.091803 -0.473224   \n",
      "\n",
      "              V6         V7        V8        V9  ...       V21       V22  \\\n",
      "96341  -0.350285  -0.486365 -0.010809 -0.794944  ... -0.026055 -0.295255   \n",
      "154693 -2.445140  -4.964221  1.484890 -2.947899  ...  1.325672  1.021226   \n",
      "27362   0.563341  -0.123372  0.223122 -0.673598  ... -0.159387 -0.305154   \n",
      "154697 -1.154394  -7.739928  2.851363 -2.507569  ...  1.620591  1.567947   \n",
      "11343  -2.202710 -15.471612 -0.356595 -6.380125  ... -2.366836  1.130955   \n",
      "...          ...        ...       ...       ...  ...       ...       ...   \n",
      "30442  -1.163407  -6.805053  2.928356 -4.917130  ...  1.691042  0.920021   \n",
      "149869 -2.551375  -2.001743  1.092432 -0.836098  ...  0.825951  1.144170   \n",
      "6472   -1.734662  -3.059245  0.889805  0.415382  ...  0.343283 -0.054196   \n",
      "203700 -2.321064  -0.781880  0.076619 -2.976249  ...  0.098341 -0.845866   \n",
      "154454 -2.085436  -1.671244  0.094397  0.337799  ...  0.401416 -0.084933   \n",
      "\n",
      "             V23       V24       V25       V26       V27       V28  Amount  \\\n",
      "96341  -0.180459 -0.436539  0.494649 -0.283738 -0.001128  0.035075   98.01   \n",
      "154693 -0.266476 -0.370880  0.365535  0.081372  0.184983 -0.211582    1.00   \n",
      "27362   0.053620  0.011761  0.375146 -0.106299  0.021008  0.010559    1.52   \n",
      "154697 -0.578007 -0.059045 -1.829169 -0.072429  0.136734 -0.599848    7.59   \n",
      "11343   0.991153 -1.033132 -0.327179  0.634693  2.171905 -1.395288    1.00   \n",
      "...          ...       ...       ...       ...       ...       ...     ...   \n",
      "30442  -0.151104  0.011007  0.080303  0.412191  0.635789  0.501050    4.56   \n",
      "149869  0.208559 -0.295497 -0.690232 -0.364749  0.229327  0.208830   18.00   \n",
      "6472    0.709654 -0.372216 -2.032068  0.366778  0.395171  0.020206    1.00   \n",
      "203700 -0.031228  0.421146  0.388361  0.056035  0.491828  0.340847    0.00   \n",
      "154454 -0.197684 -0.283271  0.387597 -0.553527  0.516274  0.270828  147.87   \n",
      "\n",
      "        Class  \n",
      "96341       1  \n",
      "154693      1  \n",
      "27362       1  \n",
      "154697      1  \n",
      "11343       1  \n",
      "...       ...  \n",
      "30442       1  \n",
      "149869      1  \n",
      "6472        1  \n",
      "203700      1  \n",
      "154454      1  \n",
      "\n",
      "[492 rows x 31 columns]\n"
     ]
    }
   ],
   "source": [
    "print(f\"Fraud = {fraud_sample}\")"
   ],
   "metadata": {
    "collapsed": false,
    "pycharm": {
     "name": "#%%print(f\"Legit = {legit_sample}\")\n"
    }
   }
  },
  {
   "cell_type": "code",
   "execution_count": 21,
   "outputs": [
    {
     "name": "stdout",
     "output_type": "stream",
     "text": [
      "Legit =             Time        V1        V2        V3        V4        V5        V6  \\\n",
      "161152  113926.0 -1.338811 -0.148780  2.237270  0.200853  0.139766  3.610569   \n",
      "249417  154396.0  2.086777  0.139760 -1.772542  0.382697  0.472190 -0.797233   \n",
      "257356  158124.0  2.282772 -1.242082 -0.856833 -1.773008 -1.163815 -0.725223   \n",
      "16247    27651.0  1.479124 -1.366025  1.067033 -1.181950 -2.049587 -0.179948   \n",
      "250592  154985.0  1.974428 -0.509228 -0.404570  0.273696 -0.615464 -0.101159   \n",
      "...          ...       ...       ...       ...       ...       ...       ...   \n",
      "10242    16003.0 -1.578896  1.921283  2.014418  3.177392 -0.249590  2.006822   \n",
      "201759  134028.0  1.399310 -1.323940 -0.624460  1.790450 -0.705709  0.601177   \n",
      "116650   74374.0 -0.835626  0.500059  1.512458  1.505003 -0.753544  1.313994   \n",
      "59605    48915.0  1.166954 -0.336931  0.669172  0.262487 -1.012905 -0.607989   \n",
      "133395   80366.0  1.180506 -0.017324  1.223835  1.257384 -0.990505 -0.284545   \n",
      "\n",
      "              V7        V8        V9  ...       V21       V22       V23  \\\n",
      "161152 -0.434963  0.872618  1.846804  ...  0.112700  1.198595 -0.267552   \n",
      "249417  0.166567 -0.213850  0.538347  ... -0.377736 -0.991355  0.323563   \n",
      "257356 -1.045602 -0.140011 -1.681444  ... -0.569200 -1.317997  0.524993   \n",
      "16247  -1.645711  0.106612 -0.850163  ... -0.278740 -0.276883  0.035943   \n",
      "250592 -0.766450  0.130711  1.009490  ...  0.276085  0.959972  0.079977   \n",
      "...          ...       ...       ...  ...       ...       ...       ...   \n",
      "10242  -2.050794 -5.507563  0.505128  ... -2.528102  1.548477  0.271509   \n",
      "201759 -0.385779  0.142569  1.665896  ...  0.395873  0.963205 -0.260111   \n",
      "116650 -0.010317  0.830850  0.185214  ... -0.228786 -0.571810  0.166338   \n",
      "59605  -0.408493  0.141610  0.691574  ... -0.277126 -0.815758  0.135104   \n",
      "133395 -0.601134  0.114003  0.876124  ... -0.022609  0.064582  0.003759   \n",
      "\n",
      "             V24       V25       V26       V27       V28  Amount  Class  \n",
      "161152 -0.935914 -0.109171 -0.403720  0.072706 -0.056167  106.00      0  \n",
      "249417  0.372821 -0.244580  0.182141 -0.064262 -0.032596    1.29      0  \n",
      "257356 -0.448030 -0.675473 -0.695265  0.004783 -0.052450   11.98      0  \n",
      "16247  -0.002554  0.261156 -0.169681  0.072008  0.026581   12.00      0  \n",
      "250592 -0.340899 -0.233609  0.650033 -0.027724 -0.064429    5.99      0  \n",
      "...          ...       ...       ...       ...       ...     ...    ...  \n",
      "10242   0.023591 -0.660898  0.195564 -0.595176 -0.218600   15.18      0  \n",
      "201759  0.650669  0.193009 -0.339707  0.016771  0.012115  282.36      0  \n",
      "116650 -0.519875 -0.180714 -0.433153  0.050368  0.084900  122.10      0  \n",
      "59605   0.539264  0.059247  0.797968 -0.085175 -0.003465   19.95      0  \n",
      "133395  0.315598  0.375664 -0.393697  0.065645  0.035672    1.00      0  \n",
      "\n",
      "[492 rows x 31 columns]\n"
     ]
    }
   ],
   "source": [
    "print(f\"Legit = {legit_sample}\")"
   ],
   "metadata": {
    "collapsed": false,
    "pycharm": {
     "name": "#%%\n"
    }
   }
  },
  {
   "cell_type": "code",
   "execution_count": 22,
   "outputs": [
    {
     "data": {
      "text/plain": "(492, 31)"
     },
     "execution_count": 22,
     "metadata": {},
     "output_type": "execute_result"
    }
   ],
   "source": [
    "legit_sample.shape"
   ],
   "metadata": {
    "collapsed": false,
    "pycharm": {
     "name": "#%%\n"
    }
   }
  },
  {
   "cell_type": "code",
   "execution_count": 23,
   "outputs": [
    {
     "data": {
      "text/plain": "(492, 31)"
     },
     "execution_count": 23,
     "metadata": {},
     "output_type": "execute_result"
    }
   ],
   "source": [
    "fraud_sample.shape"
   ],
   "metadata": {
    "collapsed": false,
    "pycharm": {
     "name": "#%%\n"
    }
   }
  },
  {
   "cell_type": "code",
   "execution_count": 24,
   "outputs": [],
   "source": [
    "# check if the sample is balanced or not\n",
    "new_data = pd.concat([legit_sample, fraud_sample], axis=0)"
   ],
   "metadata": {
    "collapsed": false,
    "pycharm": {
     "name": "#%%\n"
    }
   }
  },
  {
   "cell_type": "code",
   "execution_count": 25,
   "outputs": [
    {
     "data": {
      "text/plain": "            Time        V1        V2        V3        V4        V5        V6  \\\n161152  113926.0 -1.338811 -0.148780  2.237270  0.200853  0.139766  3.610569   \n249417  154396.0  2.086777  0.139760 -1.772542  0.382697  0.472190 -0.797233   \n257356  158124.0  2.282772 -1.242082 -0.856833 -1.773008 -1.163815 -0.725223   \n16247    27651.0  1.479124 -1.366025  1.067033 -1.181950 -2.049587 -0.179948   \n250592  154985.0  1.974428 -0.509228 -0.404570  0.273696 -0.615464 -0.101159   \n\n              V7        V8        V9  ...       V21       V22       V23  \\\n161152 -0.434963  0.872618  1.846804  ...  0.112700  1.198595 -0.267552   \n249417  0.166567 -0.213850  0.538347  ... -0.377736 -0.991355  0.323563   \n257356 -1.045602 -0.140011 -1.681444  ... -0.569200 -1.317997  0.524993   \n16247  -1.645711  0.106612 -0.850163  ... -0.278740 -0.276883  0.035943   \n250592 -0.766450  0.130711  1.009490  ...  0.276085  0.959972  0.079977   \n\n             V24       V25       V26       V27       V28  Amount  Class  \n161152 -0.935914 -0.109171 -0.403720  0.072706 -0.056167  106.00      0  \n249417  0.372821 -0.244580  0.182141 -0.064262 -0.032596    1.29      0  \n257356 -0.448030 -0.675473 -0.695265  0.004783 -0.052450   11.98      0  \n16247  -0.002554  0.261156 -0.169681  0.072008  0.026581   12.00      0  \n250592 -0.340899 -0.233609  0.650033 -0.027724 -0.064429    5.99      0  \n\n[5 rows x 31 columns]",
      "text/html": "<div>\n<style scoped>\n    .dataframe tbody tr th:only-of-type {\n        vertical-align: middle;\n    }\n\n    .dataframe tbody tr th {\n        vertical-align: top;\n    }\n\n    .dataframe thead th {\n        text-align: right;\n    }\n</style>\n<table border=\"1\" class=\"dataframe\">\n  <thead>\n    <tr style=\"text-align: right;\">\n      <th></th>\n      <th>Time</th>\n      <th>V1</th>\n      <th>V2</th>\n      <th>V3</th>\n      <th>V4</th>\n      <th>V5</th>\n      <th>V6</th>\n      <th>V7</th>\n      <th>V8</th>\n      <th>V9</th>\n      <th>...</th>\n      <th>V21</th>\n      <th>V22</th>\n      <th>V23</th>\n      <th>V24</th>\n      <th>V25</th>\n      <th>V26</th>\n      <th>V27</th>\n      <th>V28</th>\n      <th>Amount</th>\n      <th>Class</th>\n    </tr>\n  </thead>\n  <tbody>\n    <tr>\n      <th>161152</th>\n      <td>113926.0</td>\n      <td>-1.338811</td>\n      <td>-0.148780</td>\n      <td>2.237270</td>\n      <td>0.200853</td>\n      <td>0.139766</td>\n      <td>3.610569</td>\n      <td>-0.434963</td>\n      <td>0.872618</td>\n      <td>1.846804</td>\n      <td>...</td>\n      <td>0.112700</td>\n      <td>1.198595</td>\n      <td>-0.267552</td>\n      <td>-0.935914</td>\n      <td>-0.109171</td>\n      <td>-0.403720</td>\n      <td>0.072706</td>\n      <td>-0.056167</td>\n      <td>106.00</td>\n      <td>0</td>\n    </tr>\n    <tr>\n      <th>249417</th>\n      <td>154396.0</td>\n      <td>2.086777</td>\n      <td>0.139760</td>\n      <td>-1.772542</td>\n      <td>0.382697</td>\n      <td>0.472190</td>\n      <td>-0.797233</td>\n      <td>0.166567</td>\n      <td>-0.213850</td>\n      <td>0.538347</td>\n      <td>...</td>\n      <td>-0.377736</td>\n      <td>-0.991355</td>\n      <td>0.323563</td>\n      <td>0.372821</td>\n      <td>-0.244580</td>\n      <td>0.182141</td>\n      <td>-0.064262</td>\n      <td>-0.032596</td>\n      <td>1.29</td>\n      <td>0</td>\n    </tr>\n    <tr>\n      <th>257356</th>\n      <td>158124.0</td>\n      <td>2.282772</td>\n      <td>-1.242082</td>\n      <td>-0.856833</td>\n      <td>-1.773008</td>\n      <td>-1.163815</td>\n      <td>-0.725223</td>\n      <td>-1.045602</td>\n      <td>-0.140011</td>\n      <td>-1.681444</td>\n      <td>...</td>\n      <td>-0.569200</td>\n      <td>-1.317997</td>\n      <td>0.524993</td>\n      <td>-0.448030</td>\n      <td>-0.675473</td>\n      <td>-0.695265</td>\n      <td>0.004783</td>\n      <td>-0.052450</td>\n      <td>11.98</td>\n      <td>0</td>\n    </tr>\n    <tr>\n      <th>16247</th>\n      <td>27651.0</td>\n      <td>1.479124</td>\n      <td>-1.366025</td>\n      <td>1.067033</td>\n      <td>-1.181950</td>\n      <td>-2.049587</td>\n      <td>-0.179948</td>\n      <td>-1.645711</td>\n      <td>0.106612</td>\n      <td>-0.850163</td>\n      <td>...</td>\n      <td>-0.278740</td>\n      <td>-0.276883</td>\n      <td>0.035943</td>\n      <td>-0.002554</td>\n      <td>0.261156</td>\n      <td>-0.169681</td>\n      <td>0.072008</td>\n      <td>0.026581</td>\n      <td>12.00</td>\n      <td>0</td>\n    </tr>\n    <tr>\n      <th>250592</th>\n      <td>154985.0</td>\n      <td>1.974428</td>\n      <td>-0.509228</td>\n      <td>-0.404570</td>\n      <td>0.273696</td>\n      <td>-0.615464</td>\n      <td>-0.101159</td>\n      <td>-0.766450</td>\n      <td>0.130711</td>\n      <td>1.009490</td>\n      <td>...</td>\n      <td>0.276085</td>\n      <td>0.959972</td>\n      <td>0.079977</td>\n      <td>-0.340899</td>\n      <td>-0.233609</td>\n      <td>0.650033</td>\n      <td>-0.027724</td>\n      <td>-0.064429</td>\n      <td>5.99</td>\n      <td>0</td>\n    </tr>\n  </tbody>\n</table>\n<p>5 rows × 31 columns</p>\n</div>"
     },
     "execution_count": 25,
     "metadata": {},
     "output_type": "execute_result"
    }
   ],
   "source": [
    "new_data.head()"
   ],
   "metadata": {
    "collapsed": false,
    "pycharm": {
     "name": "#%%\n"
    }
   }
  },
  {
   "cell_type": "code",
   "execution_count": 26,
   "outputs": [
    {
     "data": {
      "text/plain": "            Time        V1        V2        V3        V4        V5        V6  \\\n30442    35926.0 -3.896583  4.518355 -4.454027  5.547453 -4.121459 -1.163407   \n149869   92092.0 -1.108478  3.448953 -6.216972  3.021052 -0.529901 -2.551375   \n6472      7740.0  1.023874  2.001485 -4.769752  3.819195 -1.271754 -1.734662   \n203700  134928.0  1.204934  3.238070 -6.010324  5.720847  1.548400 -2.321064   \n154454  101597.0  0.913116  1.145381 -4.602878  2.091803 -0.473224 -2.085436   \n\n              V7        V8        V9  ...       V21       V22       V23  \\\n30442  -6.805053  2.928356 -4.917130  ...  1.691042  0.920021 -0.151104   \n149869 -2.001743  1.092432 -0.836098  ...  0.825951  1.144170  0.208559   \n6472   -3.059245  0.889805  0.415382  ...  0.343283 -0.054196  0.709654   \n203700 -0.781880  0.076619 -2.976249  ...  0.098341 -0.845866 -0.031228   \n154454 -1.671244  0.094397  0.337799  ...  0.401416 -0.084933 -0.197684   \n\n             V24       V25       V26       V27       V28  Amount  Class  \n30442   0.011007  0.080303  0.412191  0.635789  0.501050    4.56      1  \n149869 -0.295497 -0.690232 -0.364749  0.229327  0.208830   18.00      1  \n6472   -0.372216 -2.032068  0.366778  0.395171  0.020206    1.00      1  \n203700  0.421146  0.388361  0.056035  0.491828  0.340847    0.00      1  \n154454 -0.283271  0.387597 -0.553527  0.516274  0.270828  147.87      1  \n\n[5 rows x 31 columns]",
      "text/html": "<div>\n<style scoped>\n    .dataframe tbody tr th:only-of-type {\n        vertical-align: middle;\n    }\n\n    .dataframe tbody tr th {\n        vertical-align: top;\n    }\n\n    .dataframe thead th {\n        text-align: right;\n    }\n</style>\n<table border=\"1\" class=\"dataframe\">\n  <thead>\n    <tr style=\"text-align: right;\">\n      <th></th>\n      <th>Time</th>\n      <th>V1</th>\n      <th>V2</th>\n      <th>V3</th>\n      <th>V4</th>\n      <th>V5</th>\n      <th>V6</th>\n      <th>V7</th>\n      <th>V8</th>\n      <th>V9</th>\n      <th>...</th>\n      <th>V21</th>\n      <th>V22</th>\n      <th>V23</th>\n      <th>V24</th>\n      <th>V25</th>\n      <th>V26</th>\n      <th>V27</th>\n      <th>V28</th>\n      <th>Amount</th>\n      <th>Class</th>\n    </tr>\n  </thead>\n  <tbody>\n    <tr>\n      <th>30442</th>\n      <td>35926.0</td>\n      <td>-3.896583</td>\n      <td>4.518355</td>\n      <td>-4.454027</td>\n      <td>5.547453</td>\n      <td>-4.121459</td>\n      <td>-1.163407</td>\n      <td>-6.805053</td>\n      <td>2.928356</td>\n      <td>-4.917130</td>\n      <td>...</td>\n      <td>1.691042</td>\n      <td>0.920021</td>\n      <td>-0.151104</td>\n      <td>0.011007</td>\n      <td>0.080303</td>\n      <td>0.412191</td>\n      <td>0.635789</td>\n      <td>0.501050</td>\n      <td>4.56</td>\n      <td>1</td>\n    </tr>\n    <tr>\n      <th>149869</th>\n      <td>92092.0</td>\n      <td>-1.108478</td>\n      <td>3.448953</td>\n      <td>-6.216972</td>\n      <td>3.021052</td>\n      <td>-0.529901</td>\n      <td>-2.551375</td>\n      <td>-2.001743</td>\n      <td>1.092432</td>\n      <td>-0.836098</td>\n      <td>...</td>\n      <td>0.825951</td>\n      <td>1.144170</td>\n      <td>0.208559</td>\n      <td>-0.295497</td>\n      <td>-0.690232</td>\n      <td>-0.364749</td>\n      <td>0.229327</td>\n      <td>0.208830</td>\n      <td>18.00</td>\n      <td>1</td>\n    </tr>\n    <tr>\n      <th>6472</th>\n      <td>7740.0</td>\n      <td>1.023874</td>\n      <td>2.001485</td>\n      <td>-4.769752</td>\n      <td>3.819195</td>\n      <td>-1.271754</td>\n      <td>-1.734662</td>\n      <td>-3.059245</td>\n      <td>0.889805</td>\n      <td>0.415382</td>\n      <td>...</td>\n      <td>0.343283</td>\n      <td>-0.054196</td>\n      <td>0.709654</td>\n      <td>-0.372216</td>\n      <td>-2.032068</td>\n      <td>0.366778</td>\n      <td>0.395171</td>\n      <td>0.020206</td>\n      <td>1.00</td>\n      <td>1</td>\n    </tr>\n    <tr>\n      <th>203700</th>\n      <td>134928.0</td>\n      <td>1.204934</td>\n      <td>3.238070</td>\n      <td>-6.010324</td>\n      <td>5.720847</td>\n      <td>1.548400</td>\n      <td>-2.321064</td>\n      <td>-0.781880</td>\n      <td>0.076619</td>\n      <td>-2.976249</td>\n      <td>...</td>\n      <td>0.098341</td>\n      <td>-0.845866</td>\n      <td>-0.031228</td>\n      <td>0.421146</td>\n      <td>0.388361</td>\n      <td>0.056035</td>\n      <td>0.491828</td>\n      <td>0.340847</td>\n      <td>0.00</td>\n      <td>1</td>\n    </tr>\n    <tr>\n      <th>154454</th>\n      <td>101597.0</td>\n      <td>0.913116</td>\n      <td>1.145381</td>\n      <td>-4.602878</td>\n      <td>2.091803</td>\n      <td>-0.473224</td>\n      <td>-2.085436</td>\n      <td>-1.671244</td>\n      <td>0.094397</td>\n      <td>0.337799</td>\n      <td>...</td>\n      <td>0.401416</td>\n      <td>-0.084933</td>\n      <td>-0.197684</td>\n      <td>-0.283271</td>\n      <td>0.387597</td>\n      <td>-0.553527</td>\n      <td>0.516274</td>\n      <td>0.270828</td>\n      <td>147.87</td>\n      <td>1</td>\n    </tr>\n  </tbody>\n</table>\n<p>5 rows × 31 columns</p>\n</div>"
     },
     "execution_count": 26,
     "metadata": {},
     "output_type": "execute_result"
    }
   ],
   "source": [
    "new_data.tail()"
   ],
   "metadata": {
    "collapsed": false,
    "pycharm": {
     "name": "#%%\n"
    }
   }
  },
  {
   "cell_type": "code",
   "execution_count": 27,
   "outputs": [
    {
     "data": {
      "text/plain": "1    492\n0    492\nName: Class, dtype: int64"
     },
     "execution_count": 27,
     "metadata": {},
     "output_type": "execute_result"
    }
   ],
   "source": [
    "new_data['Class'].value_counts()"
   ],
   "metadata": {
    "collapsed": false,
    "pycharm": {
     "name": "#%%\n"
    }
   }
  },
  {
   "cell_type": "code",
   "execution_count": 28,
   "outputs": [],
   "source": [
    "# Splitting the data into Features & Targets\n",
    "X = new_data.drop(columns=['Class'])\n",
    "y = new_data['Class']"
   ],
   "metadata": {
    "collapsed": false,
    "pycharm": {
     "name": "#%%\n"
    }
   }
  },
  {
   "cell_type": "code",
   "execution_count": 29,
   "outputs": [
    {
     "name": "stdout",
     "output_type": "stream",
     "text": [
      "            Time        V1        V2        V3        V4        V5        V6  \\\n",
      "161152  113926.0 -1.338811 -0.148780  2.237270  0.200853  0.139766  3.610569   \n",
      "249417  154396.0  2.086777  0.139760 -1.772542  0.382697  0.472190 -0.797233   \n",
      "257356  158124.0  2.282772 -1.242082 -0.856833 -1.773008 -1.163815 -0.725223   \n",
      "16247    27651.0  1.479124 -1.366025  1.067033 -1.181950 -2.049587 -0.179948   \n",
      "250592  154985.0  1.974428 -0.509228 -0.404570  0.273696 -0.615464 -0.101159   \n",
      "...          ...       ...       ...       ...       ...       ...       ...   \n",
      "30442    35926.0 -3.896583  4.518355 -4.454027  5.547453 -4.121459 -1.163407   \n",
      "149869   92092.0 -1.108478  3.448953 -6.216972  3.021052 -0.529901 -2.551375   \n",
      "6472      7740.0  1.023874  2.001485 -4.769752  3.819195 -1.271754 -1.734662   \n",
      "203700  134928.0  1.204934  3.238070 -6.010324  5.720847  1.548400 -2.321064   \n",
      "154454  101597.0  0.913116  1.145381 -4.602878  2.091803 -0.473224 -2.085436   \n",
      "\n",
      "              V7        V8        V9  ...       V20       V21       V22  \\\n",
      "161152 -0.434963  0.872618  1.846804  ... -0.309738  0.112700  1.198595   \n",
      "249417  0.166567 -0.213850  0.538347  ... -0.166065 -0.377736 -0.991355   \n",
      "257356 -1.045602 -0.140011 -1.681444  ... -0.422363 -0.569200 -1.317997   \n",
      "16247  -1.645711  0.106612 -0.850163  ... -0.394875 -0.278740 -0.276883   \n",
      "250592 -0.766450  0.130711  1.009490  ... -0.213049  0.276085  0.959972   \n",
      "...          ...       ...       ...  ...       ...       ...       ...   \n",
      "30442  -6.805053  2.928356 -4.917130  ...  0.757287  1.691042  0.920021   \n",
      "149869 -2.001743  1.092432 -0.836098  ... -0.068598  0.825951  1.144170   \n",
      "6472   -3.059245  0.889805  0.415382  ...  0.204138  0.343283 -0.054196   \n",
      "203700 -0.781880  0.076619 -2.976249  ...  0.338161  0.098341 -0.845866   \n",
      "154454 -1.671244  0.094397  0.337799  ...  0.508985  0.401416 -0.084933   \n",
      "\n",
      "             V23       V24       V25       V26       V27       V28  Amount  \n",
      "161152 -0.267552 -0.935914 -0.109171 -0.403720  0.072706 -0.056167  106.00  \n",
      "249417  0.323563  0.372821 -0.244580  0.182141 -0.064262 -0.032596    1.29  \n",
      "257356  0.524993 -0.448030 -0.675473 -0.695265  0.004783 -0.052450   11.98  \n",
      "16247   0.035943 -0.002554  0.261156 -0.169681  0.072008  0.026581   12.00  \n",
      "250592  0.079977 -0.340899 -0.233609  0.650033 -0.027724 -0.064429    5.99  \n",
      "...          ...       ...       ...       ...       ...       ...     ...  \n",
      "30442  -0.151104  0.011007  0.080303  0.412191  0.635789  0.501050    4.56  \n",
      "149869  0.208559 -0.295497 -0.690232 -0.364749  0.229327  0.208830   18.00  \n",
      "6472    0.709654 -0.372216 -2.032068  0.366778  0.395171  0.020206    1.00  \n",
      "203700 -0.031228  0.421146  0.388361  0.056035  0.491828  0.340847    0.00  \n",
      "154454 -0.197684 -0.283271  0.387597 -0.553527  0.516274  0.270828  147.87  \n",
      "\n",
      "[984 rows x 30 columns]\n"
     ]
    }
   ],
   "source": [
    "print(X)"
   ],
   "metadata": {
    "collapsed": false,
    "pycharm": {
     "name": "#%%\n"
    }
   }
  },
  {
   "cell_type": "code",
   "execution_count": 30,
   "outputs": [
    {
     "name": "stdout",
     "output_type": "stream",
     "text": [
      "161152    0\n",
      "249417    0\n",
      "257356    0\n",
      "16247     0\n",
      "250592    0\n",
      "         ..\n",
      "30442     1\n",
      "149869    1\n",
      "6472      1\n",
      "203700    1\n",
      "154454    1\n",
      "Name: Class, Length: 984, dtype: int64\n"
     ]
    }
   ],
   "source": [
    "print(y)"
   ],
   "metadata": {
    "collapsed": false,
    "pycharm": {
     "name": "#%%\n"
    }
   }
  },
  {
   "cell_type": "code",
   "execution_count": 31,
   "outputs": [],
   "source": [
    "# Splitting the data into Training data & Testing data\n",
    "X_train, X_test, y_train, y_test = train_test_split(X, y, test_size=0.2, stratify=y, random_state = 2)"
   ],
   "metadata": {
    "collapsed": false,
    "pycharm": {
     "name": "#%%\n"
    }
   }
  },
  {
   "cell_type": "code",
   "execution_count": 32,
   "outputs": [
    {
     "name": "stdout",
     "output_type": "stream",
     "text": [
      "(984, 30) (787, 30) (197, 30)\n"
     ]
    }
   ],
   "source": [
    "print(X.shape, X_train.shape, X_test.shape)"
   ],
   "metadata": {
    "collapsed": false,
    "pycharm": {
     "name": "#%%\n"
    }
   }
  },
  {
   "cell_type": "code",
   "execution_count": 33,
   "outputs": [],
   "source": [
    "# Model Training\n",
    "# Logistic Regression\n",
    "model = LogisticRegression()"
   ],
   "metadata": {
    "collapsed": false,
    "pycharm": {
     "name": "#%%\n"
    }
   }
  },
  {
   "cell_type": "code",
   "execution_count": 34,
   "outputs": [
    {
     "data": {
      "text/plain": "LogisticRegression()"
     },
     "execution_count": 34,
     "metadata": {},
     "output_type": "execute_result"
    }
   ],
   "source": [
    "model.fit(X_test, y_test)"
   ],
   "metadata": {
    "collapsed": false,
    "pycharm": {
     "name": "#%%\n"
    }
   }
  },
  {
   "cell_type": "code",
   "execution_count": 35,
   "outputs": [
    {
     "name": "stdout",
     "output_type": "stream",
     "text": [
      "Acc: 92.39%\n"
     ]
    }
   ],
   "source": [
    "# Model Evaluation\n",
    "# Accuracy Score\n",
    "print(f\"Acc: {round(model.score(X_test, y_test)*100,2)}%\")"
   ],
   "metadata": {
    "collapsed": false,
    "pycharm": {
     "name": "#%%\n"
    }
   }
  },
  {
   "cell_type": "code",
   "execution_count": 36,
   "outputs": [
    {
     "name": "stdout",
     "output_type": "stream",
     "text": [
      "Predicted: [1 0 0 0 1 0 1 1 0 1 0 1 1 0 0 1 0 1 0 0 0 0 0 1 0 1 1 0 1 1 1 1 0 1 1 0 0\n",
      " 1 0 1 1 0 0 1 1 1 1 1 0 0 0 0 0 0 0 1 0 1 0 0 1 1 0 1 1 0 0 0 1 1 0 0 0 0\n",
      " 1 1 0 1 1 1 0 0 1 1 0 0 0 0 0 1 0 0 1 0 1 1 1 1 0 1 1 1 1 0 0 0 0 0 0 0 0\n",
      " 0 0 0 1 1 0 0 0 0 0 0 0 0 1 1 0 1 1 1 1 0 0 0 0 1 1 1 0 0 0 0 1 1 0 0 1 0\n",
      " 1 1 0 0 1 0 0 0 1 1 0 0 1 1 0 1 1 0 0 1 0 1 1 0 1 1 0 0 0 0 0 0 0 1 0 0 1\n",
      " 0 1 1 0 0 1 1 1 1 1 1 0]\n"
     ]
    }
   ],
   "source": [
    "# Predictions on Test Data\n",
    "y_pred = model.predict(X_test)\n",
    "print(f\"Predicted: {y_pred}\")"
   ],
   "metadata": {
    "collapsed": false,
    "pycharm": {
     "name": "#%%\n"
    }
   }
  },
  {
   "cell_type": "code",
   "execution_count": 37,
   "outputs": [
    {
     "name": "stdout",
     "output_type": "stream",
     "text": [
      "[[96  3]\n",
      " [12 86]]\n"
     ]
    }
   ],
   "source": [
    "# Confusion Matrix\n",
    "from sklearn.metrics import confusion_matrix\n",
    "cm = confusion_matrix(y_test, y_pred)\n",
    "print(cm)"
   ],
   "metadata": {
    "collapsed": false,
    "pycharm": {
     "name": "#%%\n"
    }
   }
  },
  {
   "cell_type": "code",
   "execution_count": 38,
   "outputs": [
    {
     "data": {
      "text/plain": "<Figure size 360x360 with 1 Axes>",
      "image/png": "[encoded data removed]"
     },
     "metadata": {
      "needs_background": "light"
     },
     "output_type": "display_data"
    }
   ],
   "source": [
    "# Visualize Confusion Matrix using Matplotlib\n",
    "plt.figure(figsize=(5,5))\n",
    "plt.imshow(cm)\n",
    "plt.title('Confusion Matrix')\n",
    "plt.xlabel('Predicted')\n",
    "plt.ylabel('Actual')\n",
    "plt.show()"
   ],
   "metadata": {
    "collapsed": false,
    "pycharm": {
     "name": "#%%\n"
    }
   }
  },
  {
   "cell_type": "code",
   "execution_count": 39,
   "outputs": [],
   "source": [
    "# Split the data into Training data & Testing Data\n",
    "X_train, X_test, y_train, y_test = train_test_split(X, y, test_size=0.2, stratify=y, random_state = 2)"
   ],
   "metadata": {
    "collapsed": false,
    "pycharm": {
     "name": "#%%\n"
    }
   }
  },
  {
   "cell_type": "code",
   "execution_count": 40,
   "outputs": [],
   "source": [
    "# Model Training\n",
    "# Logistic Regression\n",
    "model = LogisticRegression()"
   ],
   "metadata": {
    "collapsed": false,
    "pycharm": {
     "name": "#%%\n"
    }
   }
  },
  {
   "cell_type": "code",
   "execution_count": 41,
   "outputs": [
    {
     "data": {
      "text/plain": "LogisticRegression()"
     },
     "execution_count": 41,
     "metadata": {},
     "output_type": "execute_result"
    }
   ],
   "source": [
    "model.fit(X_test, y_test)"
   ],
   "metadata": {
    "collapsed": false,
    "pycharm": {
     "name": "#%%\n"
    }
   }
  },
  {
   "cell_type": "code",
   "execution_count": 42,
   "outputs": [
    {
     "name": "stdout",
     "output_type": "stream",
     "text": [
      "Acc: 92.39%\n"
     ]
    }
   ],
   "source": [
    "# accuracy on training data\n",
    "print(f\"Acc: {round(model.score(X_test, y_test)*100,2)}%\")"
   ],
   "metadata": {
    "collapsed": false,
    "pycharm": {
     "name": "#%%\n"
    }
   }
  },
  {
   "cell_type": "code",
   "execution_count": 43,
   "outputs": [
    {
     "name": "stdout",
     "output_type": "stream",
     "text": [
      "Traing Data Accuracy: 92.63%\n"
     ]
    }
   ],
   "source": [
    "# Accuracy on Training data\n",
    "X_train_prediction = model.predict(X_train)\n",
    "training_data_accuracy = accuracy_score(X_train_prediction, y_train)\n",
    "print(f\"Traing Data Accuracy: {round(training_data_accuracy*100,2)}%\")\n"
   ],
   "metadata": {
    "collapsed": false,
    "pycharm": {
     "name": "#%%\n"
    }
   }
  },
  {
   "cell_type": "code",
   "execution_count": 44,
   "outputs": [
    {
     "name": "stdout",
     "output_type": "stream",
     "text": [
      "Test Data  Acc: 92.39%\n"
     ]
    }
   ],
   "source": [
    "# validate the  model on test data\n",
    "X_test_prediction = model.predict(X_test)\n",
    "test_data_accuracy = accuracy_score(X_test_prediction, y_test)\n",
    "print(f\"Test Data  Acc: {round(test_data_accuracy*100,2)}%\")"
   ],
   "metadata": {
    "collapsed": false,
    "pycharm": {
     "name": "#%%\n"
    }
   }
  },
  {
   "cell_type": "code",
   "execution_count": 44,
   "outputs": [],
   "source": [],
   "metadata": {
    "collapsed": false,
    "pycharm": {
     "name": "#%%\n"
    }
   }
  }
 ],
 "metadata": {
  "kernelspec": {
   "display_name": "Python 3",
   "language": "python",
   "name": "python3"
  },
  "language_info": {
   "codemirror_mode": {
    "name": "ipython",
    "version": 2
   },
   "file_extension": ".py",
   "mimetype": "text/x-python",
   "name": "python",
   "nbconvert_exporter": "python",
   "pygments_lexer": "ipython2",
   "version": "2.7.6"
  }
 },
 "nbformat": 4,
 "nbformat_minor": 0
}